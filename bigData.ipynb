{
 "cells": [
  {
   "cell_type": "code",
   "execution_count": 3,
   "metadata": {
    "collapsed": true
   },
   "outputs": [],
   "source": [
    "import findspark\n",
    "findspark.init()"
   ]
  },
  {
   "cell_type": "code",
   "execution_count": 4,
   "metadata": {},
   "outputs": [],
   "source": [
    "from pyspark import SparkContext, SparkConf"
   ]
  },
  {
   "cell_type": "code",
   "execution_count": 5,
   "metadata": {},
   "outputs": [],
   "source": [
    "conf=SparkConf().setAppName(\"BDProject\").setMaster(\"local[3]\")"
   ]
  },
  {
   "cell_type": "code",
   "execution_count": 6,
   "metadata": {
    "collapsed": true
   },
   "outputs": [],
   "source": [
    "sc=SparkContext(conf=conf)"
   ]
  },
  {
   "cell_type": "code",
   "execution_count": 16,
   "metadata": {
    "collapsed": true
   },
   "outputs": [],
   "source": [
    "rawTags=sc.textFile(\"travel.stackexchange.com\\Badges.xml\")"
   ]
  },
  {
   "cell_type": "code",
   "execution_count": 17,
   "metadata": {},
   "outputs": [
    {
     "data": {
      "text/plain": [
       "['  <row Id=\"1\" UserId=\"2\" Name=\"Autobiographer\" Date=\"2011-06-21T20:16:48.910\" Class=\"3\" TagBased=\"False\" />',\n",
       " '  <row Id=\"2\" UserId=\"3\" Name=\"Autobiographer\" Date=\"2011-06-21T20:16:48.910\" Class=\"3\" TagBased=\"False\" />',\n",
       " '  <row Id=\"3\" UserId=\"4\" Name=\"Autobiographer\" Date=\"2011-06-21T20:16:48.910\" Class=\"3\" TagBased=\"False\" />',\n",
       " '  <row Id=\"4\" UserId=\"6\" Name=\"Autobiographer\" Date=\"2011-06-21T20:21:49.157\" Class=\"3\" TagBased=\"False\" />',\n",
       " '  <row Id=\"5\" UserId=\"8\" Name=\"Autobiographer\" Date=\"2011-06-21T20:21:49.157\" Class=\"3\" TagBased=\"False\" />',\n",
       " '  <row Id=\"6\" UserId=\"9\" Name=\"Autobiographer\" Date=\"2011-06-21T20:21:49.157\" Class=\"3\" TagBased=\"False\" />',\n",
       " '  <row Id=\"7\" UserId=\"10\" Name=\"Autobiographer\" Date=\"2011-06-21T20:21:49.173\" Class=\"3\" TagBased=\"False\" />',\n",
       " '  <row Id=\"8\" UserId=\"12\" Name=\"Autobiographer\" Date=\"2011-06-21T20:21:49.173\" Class=\"3\" TagBased=\"False\" />',\n",
       " '  <row Id=\"9\" UserId=\"13\" Name=\"Autobiographer\" Date=\"2011-06-21T20:21:49.173\" Class=\"3\" TagBased=\"False\" />',\n",
       " '  <row Id=\"10\" UserId=\"17\" Name=\"Autobiographer\" Date=\"2011-06-21T20:21:49.173\" Class=\"3\" TagBased=\"False\" />']"
      ]
     },
     "execution_count": 17,
     "metadata": {},
     "output_type": "execute_result"
    }
   ],
   "source": [
    "rawTags.take(10)"
   ]
  },
  {
   "cell_type": "code",
   "execution_count": 135,
   "metadata": {
    "collapsed": true
   },
   "outputs": [],
   "source": [
    "def cleaning(listIn):\n",
    "    listOut=[]\n",
    "    for x in listIn:\n",
    "        if listIn.index(x)%2==0:\n",
    "            listOut.append(x.replace(' ','').replace('<','').replace('=',''))\n",
    "        else:\n",
    "            listOut.append(x)\n",
    "    return {listOut[i]:listOut[i+1] for i in range(0,len(listOut)-1,2)}"
   ]
  },
  {
   "cell_type": "code",
   "execution_count": 133,
   "metadata": {
    "collapsed": true
   },
   "outputs": [],
   "source": [
    "tags=rawTags.filter(lambda x: x.startswith('  <row Id=')).\\\n",
    "map(lambda x: x.split('\"')).map(cleaning)"
   ]
  },
  {
   "cell_type": "code",
   "execution_count": 134,
   "metadata": {},
   "outputs": [
    {
     "data": {
      "text/plain": [
       "[{'Class': '3',\n",
       "  'Date': '2011-06-21T20:16:48.910',\n",
       "  'Name': 'Autobiographer',\n",
       "  'TagBased': 'False',\n",
       "  'UserId': '2',\n",
       "  'rowId': '1'},\n",
       " {'Class': '3',\n",
       "  'Date': '2011-06-21T20:16:48.910',\n",
       "  'Name': 'Autobiographer',\n",
       "  'TagBased': 'False',\n",
       "  'UserId': '3',\n",
       "  'rowId': '2'},\n",
       " {'Class': '3',\n",
       "  'Date': '2011-06-21T20:16:48.910',\n",
       "  'Name': 'Autobiographer',\n",
       "  'TagBased': 'False',\n",
       "  'UserId': '4',\n",
       "  'rowId': '3'},\n",
       " {'Class': '3',\n",
       "  'Date': '2011-06-21T20:21:49.157',\n",
       "  'Name': 'Autobiographer',\n",
       "  'TagBased': 'False',\n",
       "  'UserId': '6',\n",
       "  'rowId': '4'},\n",
       " {'Class': '3',\n",
       "  'Date': '2011-06-21T20:21:49.157',\n",
       "  'Name': 'Autobiographer',\n",
       "  'TagBased': 'False',\n",
       "  'UserId': '8',\n",
       "  'rowId': '5'},\n",
       " {'Class': '3',\n",
       "  'Date': '2011-06-21T20:21:49.157',\n",
       "  'Name': 'Autobiographer',\n",
       "  'TagBased': 'False',\n",
       "  'UserId': '9',\n",
       "  'rowId': '6'},\n",
       " {'Class': '3',\n",
       "  'Date': '2011-06-21T20:21:49.173',\n",
       "  'Name': 'Autobiographer',\n",
       "  'TagBased': 'False',\n",
       "  'UserId': '10',\n",
       "  'rowId': '7'},\n",
       " {'Class': '3',\n",
       "  'Date': '2011-06-21T20:21:49.173',\n",
       "  'Name': 'Autobiographer',\n",
       "  'TagBased': 'False',\n",
       "  'UserId': '12',\n",
       "  'rowId': '8'},\n",
       " {'Class': '3',\n",
       "  'Date': '2011-06-21T20:21:49.173',\n",
       "  'Name': 'Autobiographer',\n",
       "  'TagBased': 'False',\n",
       "  'UserId': '13',\n",
       "  'rowId': '9'},\n",
       " {'Class': '3',\n",
       "  'Date': '2011-06-21T20:21:49.173',\n",
       "  'Name': 'Autobiographer',\n",
       "  'TagBased': 'False',\n",
       "  'UserId': '17',\n",
       "  'rowId': '10'}]"
      ]
     },
     "execution_count": 134,
     "metadata": {},
     "output_type": "execute_result"
    }
   ],
   "source": [
    "tags.take(10)"
   ]
  },
  {
   "cell_type": "code",
   "execution_count": null,
   "metadata": {
    "collapsed": true
   },
   "outputs": [],
   "source": []
  }
 ],
 "metadata": {
  "kernelspec": {
   "display_name": "Python 3",
   "language": "python",
   "name": "python3"
  },
  "language_info": {
   "codemirror_mode": {
    "name": "ipython",
    "version": 3
   },
   "file_extension": ".py",
   "mimetype": "text/x-python",
   "name": "python",
   "nbconvert_exporter": "python",
   "pygments_lexer": "ipython3",
   "version": "3.6.3"
  }
 },
 "nbformat": 4,
 "nbformat_minor": 2
}
