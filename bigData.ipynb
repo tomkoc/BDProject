{
 "cells": [
  {
   "cell_type": "code",
   "execution_count": 1,
   "metadata": {
    "collapsed": true
   },
   "outputs": [],
   "source": [
    "import findspark\n",
    "findspark.init()"
   ]
  },
  {
   "cell_type": "code",
   "execution_count": 2,
   "metadata": {
    "collapsed": true
   },
   "outputs": [],
   "source": [
    "from pyspark import SparkContext, SparkConf"
   ]
  },
  {
   "cell_type": "code",
   "execution_count": 3,
   "metadata": {
    "collapsed": true
   },
   "outputs": [],
   "source": [
    "conf=SparkConf().setAppName(\"BDProject\").setMaster(\"local[3]\")"
   ]
  },
  {
   "cell_type": "code",
   "execution_count": 4,
   "metadata": {},
   "outputs": [],
   "source": [
    "sc=SparkContext(conf=conf)"
   ]
  },
  {
   "cell_type": "code",
   "execution_count": 5,
   "metadata": {
    "collapsed": true
   },
   "outputs": [],
   "source": [
    "rawTags=sc.textFile(\"travel.stackexchange.com\\Badges.xml\")"
   ]
  },
  {
   "cell_type": "code",
   "execution_count": 6,
   "metadata": {},
   "outputs": [
    {
     "data": {
      "text/plain": [
       "['<?xml version=\"1.0\" encoding=\"utf-8\"?>',\n",
       " '<badges>',\n",
       " '  <row Id=\"1\" UserId=\"2\" Name=\"Autobiographer\" Date=\"2011-06-21T20:16:48.910\" Class=\"3\" TagBased=\"False\" />',\n",
       " '  <row Id=\"2\" UserId=\"3\" Name=\"Autobiographer\" Date=\"2011-06-21T20:16:48.910\" Class=\"3\" TagBased=\"False\" />',\n",
       " '  <row Id=\"3\" UserId=\"4\" Name=\"Autobiographer\" Date=\"2011-06-21T20:16:48.910\" Class=\"3\" TagBased=\"False\" />',\n",
       " '  <row Id=\"4\" UserId=\"6\" Name=\"Autobiographer\" Date=\"2011-06-21T20:21:49.157\" Class=\"3\" TagBased=\"False\" />',\n",
       " '  <row Id=\"5\" UserId=\"8\" Name=\"Autobiographer\" Date=\"2011-06-21T20:21:49.157\" Class=\"3\" TagBased=\"False\" />',\n",
       " '  <row Id=\"6\" UserId=\"9\" Name=\"Autobiographer\" Date=\"2011-06-21T20:21:49.157\" Class=\"3\" TagBased=\"False\" />',\n",
       " '  <row Id=\"7\" UserId=\"10\" Name=\"Autobiographer\" Date=\"2011-06-21T20:21:49.173\" Class=\"3\" TagBased=\"False\" />',\n",
       " '  <row Id=\"8\" UserId=\"12\" Name=\"Autobiographer\" Date=\"2011-06-21T20:21:49.173\" Class=\"3\" TagBased=\"False\" />']"
      ]
     },
     "execution_count": 6,
     "metadata": {},
     "output_type": "execute_result"
    }
   ],
   "source": [
    "rawTags.take(10)"
   ]
  },
  {
   "cell_type": "code",
   "execution_count": 8,
   "metadata": {
    "collapsed": true
   },
   "outputs": [],
   "source": [
    "def filterOdd(list):\n",
    "    return [elem for elem in list if list.index(elem) %2==1]"
   ]
  },
  {
   "cell_type": "code",
   "execution_count": 9,
   "metadata": {},
   "outputs": [],
   "source": [
    "tags=rawTags.filter(lambda x: x.startswith('  <row Id=')).\\\n",
    "map(lambda x: x.split('\"')).map(filterOdd)"
   ]
  },
  {
   "cell_type": "code",
   "execution_count": 10,
   "metadata": {},
   "outputs": [
    {
     "data": {
      "text/plain": [
       "[['1', '2', 'Autobiographer', '2011-06-21T20:16:48.910', '3', 'False'],\n",
       " ['2', '3', 'Autobiographer', '2011-06-21T20:16:48.910', '3', 'False'],\n",
       " ['3', '4', 'Autobiographer', '2011-06-21T20:16:48.910', '3', 'False'],\n",
       " ['4', '6', 'Autobiographer', '2011-06-21T20:21:49.157', '3', 'False'],\n",
       " ['5', '8', 'Autobiographer', '2011-06-21T20:21:49.157', '3', 'False'],\n",
       " ['6', '9', 'Autobiographer', '2011-06-21T20:21:49.157', '3', 'False'],\n",
       " ['7', '10', 'Autobiographer', '2011-06-21T20:21:49.173', '3', 'False'],\n",
       " ['8', '12', 'Autobiographer', '2011-06-21T20:21:49.173', '3', 'False'],\n",
       " ['9', '13', 'Autobiographer', '2011-06-21T20:21:49.173', '3', 'False'],\n",
       " ['10', '17', 'Autobiographer', '2011-06-21T20:21:49.173', '3', 'False']]"
      ]
     },
     "execution_count": 10,
     "metadata": {},
     "output_type": "execute_result"
    }
   ],
   "source": [
    "tags.take(10)"
   ]
  }
 ],
 "metadata": {
  "kernelspec": {
   "display_name": "Python 3",
   "language": "python",
   "name": "python3"
  },
  "language_info": {
   "codemirror_mode": {
    "name": "ipython",
    "version": 3
   },
   "file_extension": ".py",
   "mimetype": "text/x-python",
   "name": "python",
   "nbconvert_exporter": "python",
   "pygments_lexer": "ipython3",
   "version": "3.6.3"
  }
 },
 "nbformat": 4,
 "nbformat_minor": 2
}
