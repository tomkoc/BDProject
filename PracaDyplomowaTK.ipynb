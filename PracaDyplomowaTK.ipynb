{
 "cells": [
  {
   "cell_type": "code",
   "execution_count": 1,
   "metadata": {
    "collapsed": true
   },
   "outputs": [],
   "source": [
    "import findspark\n",
    "findspark.init()"
   ]
  },
  {
   "cell_type": "code",
   "execution_count": 2,
   "metadata": {
    "collapsed": true
   },
   "outputs": [],
   "source": [
    "from pyspark import SparkConf, SparkContext"
   ]
  },
  {
   "cell_type": "code",
   "execution_count": 3,
   "metadata": {
    "collapsed": true
   },
   "outputs": [],
   "source": [
    "conf=SparkConf().setAppName(\"BDProject\").setMaster(\"local[4]\")"
   ]
  },
  {
   "cell_type": "code",
   "execution_count": 4,
   "metadata": {
    "collapsed": true
   },
   "outputs": [],
   "source": [
    "sc=SparkContext(conf=conf)"
   ]
  },
  {
   "cell_type": "code",
   "execution_count": 114,
   "metadata": {},
   "outputs": [],
   "source": [
    "from pyspark.sql import SparkSession\n",
    "from pyspark.sql import Row\n",
    "from pyspark.sql.functions import col\n",
    "from pyspark.sql.functions import year, month\n",
    "from pyspark.sql.types import IntegerType, StringType, DateType"
   ]
  },
  {
   "cell_type": "code",
   "execution_count": 6,
   "metadata": {
    "collapsed": true
   },
   "outputs": [],
   "source": [
    "spark = SparkSession.builder \\\n",
    "    .appName('ss') \\\n",
    "    .master('local[4]') \\\n",
    "    .getOrCreate()"
   ]
  },
  {
   "cell_type": "markdown",
   "metadata": {},
   "source": [
    "Importujemy rozpakowane dane tekstowe"
   ]
  },
  {
   "cell_type": "code",
   "execution_count": 7,
   "metadata": {
    "collapsed": true
   },
   "outputs": [],
   "source": [
    "pathUsers=\"travel.stackexchange.com\\\\Users.xml\""
   ]
  },
  {
   "cell_type": "code",
   "execution_count": 8,
   "metadata": {
    "collapsed": true
   },
   "outputs": [],
   "source": [
    "rawUsers=sc.textFile(pathUsers)"
   ]
  },
  {
   "cell_type": "code",
   "execution_count": 9,
   "metadata": {},
   "outputs": [
    {
     "data": {
      "text/plain": [
       "5063"
      ]
     },
     "execution_count": 9,
     "metadata": {},
     "output_type": "execute_result"
    }
   ],
   "source": [
    "rawUsers.filter(lambda x: x.startswith('  <row Id=')).count()"
   ]
  },
  {
   "cell_type": "code",
   "execution_count": 10,
   "metadata": {},
   "outputs": [
    {
     "data": {
      "text/plain": [
       "['<?xml version=\"1.0\" encoding=\"utf-8\"?>',\n",
       " '<users>',\n",
       " '  <row Id=\"-1\" Reputation=\"1\" CreationDate=\"2011-06-21T15:16:44.000\" DisplayName=\"Community\" LastAccessDate=\"2011-06-21T15:16:52.063\" Location=\"on the server farm\" AboutMe=\"&lt;p&gt;Hi, I\\'m not really a person.&lt;/p&gt;&#xA;&#xA;&lt;p&gt;I\\'m a background process that helps keep this site clean!&lt;/p&gt;&#xA;&#xA;&lt;p&gt;I do things like&lt;/p&gt;&#xA;&#xA;&lt;ul&gt;&#xA;&lt;li&gt;Randomly poke old unanswered questions every hour so they get some attention&lt;/li&gt;&#xA;&lt;li&gt;Own community questions and answers so nobody gets unnecessary reputation from them&lt;/li&gt;&#xA;&lt;li&gt;Own downvotes on spam/evil posts that get permanently deleted&lt;/li&gt;&#xA;&lt;li&gt;Own suggested edits from anonymous users&lt;/li&gt;&#xA;&lt;li&gt;&lt;a href=&quot;http://meta.stackexchange.com/a/92006&quot;&gt;Remove abandoned questions&lt;/a&gt;&lt;/li&gt;&#xA;&lt;/ul&gt;&#xA;\" Views=\"30\" UpVotes=\"21\" DownVotes=\"17\" Age=\"7\" AccountId=\"-1\" />',\n",
       " '  <row Id=\"2\" Reputation=\"101\" CreationDate=\"2011-06-21T20:10:03.000\" DisplayName=\"Geoff Dalgas\" LastAccessDate=\"2017-11-30T21:15:20.440\" WebsiteUrl=\"http://stackoverflow.com\" Location=\"Corvallis, OR\" AboutMe=\"&lt;p&gt;Developer on the Stack Overflow team.  Find me on&lt;/p&gt;&#xA;&#xA;&lt;p&gt;&lt;a href=&quot;http://www.twitter.com/SuperDalgas&quot; rel=&quot;nofollow&quot;&gt;Twitter&lt;/a&gt;&#xA;&lt;br&gt;&lt;br&gt;&#xA;&lt;a href=&quot;http://blog.stackoverflow.com/2009/05/welcome-stack-overflow-valued-associate-00003/&quot;&gt;Stack Overflow Valued Associate #00003&lt;/a&gt;&lt;/p&gt;&#xA;\" Views=\"1\" UpVotes=\"2\" DownVotes=\"0\" Age=\"41\" AccountId=\"2\" />']"
      ]
     },
     "execution_count": 10,
     "metadata": {},
     "output_type": "execute_result"
    }
   ],
   "source": [
    "rawUsers.take(4)"
   ]
  },
  {
   "cell_type": "markdown",
   "metadata": {},
   "source": [
    "Tworzymy funkcję czyszczącą RDDs do listy Row'ów"
   ]
  },
  {
   "cell_type": "code",
   "execution_count": 129,
   "metadata": {
    "collapsed": true
   },
   "outputs": [],
   "source": [
    "def rddToDf(RDDIn):\n",
    "    def preCleanUp(RDDIn):\n",
    "        def cleaning(listIn):\n",
    "            listOut=[]\n",
    "            for x in listIn:\n",
    "                if listIn.index(x)%2==0:\n",
    "                    listOut.append(x.replace(' ','').replace('<','').replace('=',''))\n",
    "                else:\n",
    "                    listOut.append(x)\n",
    "            return {listOut[i]:listOut[i+1] for i in range(0,len(listOut)-1,2)}\n",
    "        def casting(dictIn):\n",
    "            '''formatujemy datę i tekst'''\n",
    "            def textMining(string):\n",
    "                import re\n",
    "                listXmlChar={'&lt;':'', '&amp':'&','&gt;':'','&quot;':'\"','&apos;':'\\'','&#xA;':''}\n",
    "                y=re.sub('&lt;.*?&gt;','',string)\n",
    "                for x in listXmlChar.keys():\n",
    "                    z=y.replace(x,listXmlChar[x])\n",
    "                    y=z\n",
    "                return z\n",
    "            from datetime import datetime\n",
    "            for x in dictIn.keys():\n",
    "                if x.find('Date')>0:\n",
    "                    dictIn[x]=datetime.strptime(dictIn[x][0:-4],'%Y-%m-%dT%H:%M:%S')\n",
    "                else:\n",
    "                    dictIn[x]=textMining(dictIn[x])\n",
    "            return dictIn\n",
    "        return RDDIn.filter(lambda x: x.startswith('  <row Id=')).map(lambda x: x.split('\"')).map(cleaning).map(casting)\n",
    "    dictRDD=preCleanUp(RDDIn)\n",
    "    listOfColums=dictRDD.flatMap(lambda x: list(x.keys())).distinct().collect()\n",
    "    def newDict(dictIn):\n",
    "        for col in listOfColums:\n",
    "            if col not in dictIn.keys():\n",
    "                dictIn[col]=None\n",
    "        return dictIn\n",
    "    return dictRDD.map(newDict)#.map(lambda x: Row(**x)).toDF(sampleRatio=100)"
   ]
  },
  {
   "cell_type": "code",
   "execution_count": 130,
   "metadata": {
    "collapsed": true
   },
   "outputs": [],
   "source": [
    "usersRDD=rddToDf(rawUsers)"
   ]
  },
  {
   "cell_type": "code",
   "execution_count": 132,
   "metadata": {},
   "outputs": [],
   "source": [
    "usersDF=usersRDD.map(lambda x: Row(**x)).toDF(sampleRatio=100)"
   ]
  },
  {
   "cell_type": "code",
   "execution_count": 133,
   "metadata": {},
   "outputs": [
    {
     "name": "stdout",
     "output_type": "stream",
     "text": [
      "root\n",
      " |-- AboutMe: string (nullable = true)\n",
      " |-- AccountId: string (nullable = true)\n",
      " |-- Age: string (nullable = true)\n",
      " |-- CreationDate: timestamp (nullable = true)\n",
      " |-- DisplayName: string (nullable = true)\n",
      " |-- DownVotes: string (nullable = true)\n",
      " |-- LastAccessDate: timestamp (nullable = true)\n",
      " |-- Location: string (nullable = true)\n",
      " |-- ProfileImageUrl: string (nullable = true)\n",
      " |-- Reputation: string (nullable = true)\n",
      " |-- UpVotes: string (nullable = true)\n",
      " |-- Views: string (nullable = true)\n",
      " |-- WebsiteUrl: string (nullable = true)\n",
      " |-- rowId: string (nullable = true)\n",
      "\n"
     ]
    }
   ],
   "source": [
    "usersDF.printSchema()"
   ]
  },
  {
   "cell_type": "code",
   "execution_count": 134,
   "metadata": {},
   "outputs": [
    {
     "name": "stdout",
     "output_type": "stream",
     "text": [
      "+--------------------+----------------+\n",
      "|             AboutMe|     DisplayName|\n",
      "+--------------------+----------------+\n",
      "|Hi, I'm not reall...|       Community|\n",
      "|Developer on the ...|    Geoff Dalgas|\n",
      "|I am the Architec...|     Nick Craver|\n",
      "|co-founder of Air...|          Emmett|\n",
      "|Stack Overflow Va...|  Kevin Montrose|\n",
      "|I am a 2009 gradu...|   Jimmy Sawczuk|\n",
      "|Developer by Trad...|        Seanland|\n",
      "|I'm a django deve...|    silent1mezzo|\n",
      "|I'm a software de...|     Darren Kopp|\n",
      "|I'm a Web Develop...|      daybreaker|\n",
      "|I'm a software de...|    Matthew Read|\n",
      "|Java Slave.. hem ...|         cerealk|\n",
      "|.Net Developer si...|           VMAtm|\n",
      "|Former Stack Exch...|Rebecca Chernoff|\n",
      "|A Dutch guy who l...|          jeroen|\n",
      "|President Fog Cre...|   Michael Pryor|\n",
      "|Web/server/app so...|          Nicole|\n",
      "|          wondering.|       victoriah|\n",
      "|Game, web, and pr...|         justinl|\n",
      "|I love to travel,...|             Jan|\n",
      "+--------------------+----------------+\n",
      "only showing top 20 rows\n",
      "\n"
     ]
    }
   ],
   "source": [
    "usersDF.select('AboutMe', 'DisplayName').where(usersDF.AboutMe!='').show()"
   ]
  },
  {
   "cell_type": "code",
   "execution_count": 78,
   "metadata": {},
   "outputs": [
    {
     "name": "stdout",
     "output_type": "stream",
     "text": [
      "+------+\n",
      "|AgeInt|\n",
      "+------+\n",
      "|     7|\n",
      "|    41|\n",
      "|    33|\n",
      "|    32|\n",
      "+------+\n",
      "only showing top 4 rows\n",
      "\n"
     ]
    }
   ],
   "source": [
    "usersDF.withColumn('AgeInt',usersDF.Age.cast(\"integer\")).select(\"AgeInt\").show(4)"
   ]
  },
  {
   "cell_type": "code",
   "execution_count": 16,
   "metadata": {
    "collapsed": true
   },
   "outputs": [],
   "source": [
    "listXmlChar={'&lt;':'<', '&amp':'&','&gt;':'>','&quot;':'\"','&apos;':'\\''}"
   ]
  },
  {
   "cell_type": "code",
   "execution_count": 80,
   "metadata": {},
   "outputs": [
    {
     "name": "stdout",
     "output_type": "stream",
     "text": [
      "+-------+------------------+\n",
      "|summary|               Age|\n",
      "+-------+------------------+\n",
      "|  count|              1978|\n",
      "|   mean|34.353387259858444|\n",
      "| stddev|11.293929737483065|\n",
      "|    min|               103|\n",
      "|    max|                98|\n",
      "+-------+------------------+\n",
      "\n"
     ]
    }
   ],
   "source": [
    "usersDF.select('Age').describe().show()"
   ]
  },
  {
   "cell_type": "code",
   "execution_count": 102,
   "metadata": {},
   "outputs": [
    {
     "data": {
      "text/plain": [
       "3085"
      ]
     },
     "execution_count": 102,
     "metadata": {},
     "output_type": "execute_result"
    }
   ],
   "source": [
    "usersDF.select('Age').where(usersDF.Age.isNull()).count()"
   ]
  },
  {
   "cell_type": "code",
   "execution_count": 98,
   "metadata": {},
   "outputs": [
    {
     "name": "stdout",
     "output_type": "stream",
     "text": [
      "+----+-----+\n",
      "| Age|count|\n",
      "+----+-----+\n",
      "|null| 3085|\n",
      "|  29|  134|\n",
      "|  30|  133|\n",
      "|  31|  105|\n",
      "|  32|  105|\n",
      "+----+-----+\n",
      "only showing top 5 rows\n",
      "\n"
     ]
    }
   ],
   "source": [
    "usersDF.groupBy('Age').count().orderBy('count',ascending=False).show(5)"
   ]
  },
  {
   "cell_type": "code",
   "execution_count": 118,
   "metadata": {},
   "outputs": [
    {
     "name": "stdout",
     "output_type": "stream",
     "text": [
      "+----+-----+-----+\n",
      "|year|month|count|\n",
      "+----+-----+-----+\n",
      "|2011|    6|  131|\n",
      "|2011|    7|   66|\n",
      "|2011|    8|   49|\n",
      "|2011|    9|   34|\n",
      "|2011|   10|   47|\n",
      "|2011|   11|   60|\n",
      "|2011|   12|   50|\n",
      "|2012|    1|   40|\n",
      "|2012|    2|   35|\n",
      "|2012|    3|   24|\n",
      "|2012|    4|   29|\n",
      "|2012|    5|   37|\n",
      "|2012|    6|   49|\n",
      "|2012|    7|   20|\n",
      "|2012|    8|   30|\n",
      "|2012|    9|   31|\n",
      "|2012|   10|   24|\n",
      "|2012|   11|   29|\n",
      "|2012|   12|   36|\n",
      "|2013|    1|   46|\n",
      "+----+-----+-----+\n",
      "only showing top 20 rows\n",
      "\n"
     ]
    }
   ],
   "source": [
    "usersDF.withColumn('year',year(usersDF.CreationDate)).withColumn('month',month(usersDF.CreationDate)).groupBy('year','month').count()\\\n",
    ".orderBy('year','month',ascending=True).show()"
   ]
  },
  {
   "cell_type": "code",
   "execution_count": 136,
   "metadata": {},
   "outputs": [
    {
     "data": {
      "text/plain": [
       "[{'AboutMe': \"Hi, I'm not really a person.I'm a background process that helps keep this site clean!I do things likeRandomly poke old unanswered questions every hour so they get some attentionOwn community questions and answers so nobody gets unnecessary reputation from themOwn downvotes on spam/evil posts that get permanently deletedOwn suggested edits from anonymous usersRemove abandoned questions\",\n",
       "  'AccountId': '-1',\n",
       "  'Age': '7',\n",
       "  'CreationDate': datetime.datetime(2011, 6, 21, 15, 16, 44),\n",
       "  'DisplayName': 'Community',\n",
       "  'DownVotes': '17',\n",
       "  'LastAccessDate': datetime.datetime(2011, 6, 21, 15, 16, 52),\n",
       "  'Location': 'on the server farm',\n",
       "  'ProfileImageUrl': None,\n",
       "  'Reputation': '1',\n",
       "  'UpVotes': '21',\n",
       "  'Views': '30',\n",
       "  'WebsiteUrl': None,\n",
       "  'rowId': '-1'}]"
      ]
     },
     "execution_count": 136,
     "metadata": {},
     "output_type": "execute_result"
    }
   ],
   "source": [
    "usersRDD.take(1)"
   ]
  },
  {
   "cell_type": "code",
   "execution_count": 146,
   "metadata": {},
   "outputs": [
    {
     "data": {
      "text/plain": [
       "['Hi,', \"I'm\", 'not', 'really', 'a', \"person.I'm\"]"
      ]
     },
     "execution_count": 146,
     "metadata": {},
     "output_type": "execute_result"
    }
   ],
   "source": [
    "usersRDD.map(lambda x: x['AboutMe']).flatMap(lambda x: x.split(' ')).take(6)"
   ]
  },
  {
   "cell_type": "code",
   "execution_count": 145,
   "metadata": {},
   "outputs": [
    {
     "data": {
      "text/plain": [
       "[\"Hi, I'm not really a person.I'm a background process that helps keep this site clean!I do things likeRandomly poke old unanswered questions every hour so they get some attentionOwn community questions and answers so nobody gets unnecessary reputation from themOwn downvotes on spam/evil posts that get permanently deletedOwn suggested edits from anonymous usersRemove abandoned questions\",\n",
       " 'Developer on the Stack Overflow team.  Find me onTwitterStack Overflow Valued Associate #00003']"
      ]
     },
     "execution_count": 145,
     "metadata": {},
     "output_type": "execute_result"
    }
   ],
   "source": [
    "usersRDD.map(lambda x: x['AboutMe']).take(2)"
   ]
  },
  {
   "cell_type": "code",
   "execution_count": null,
   "metadata": {
    "collapsed": true
   },
   "outputs": [],
   "source": []
  }
 ],
 "metadata": {
  "kernelspec": {
   "display_name": "Python 3",
   "language": "python",
   "name": "python3"
  },
  "language_info": {
   "codemirror_mode": {
    "name": "ipython",
    "version": 3
   },
   "file_extension": ".py",
   "mimetype": "text/x-python",
   "name": "python",
   "nbconvert_exporter": "python",
   "pygments_lexer": "ipython3",
   "version": "3.6.3"
  }
 },
 "nbformat": 4,
 "nbformat_minor": 2
}
