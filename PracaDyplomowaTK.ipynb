{
 "cells": [
  {
   "cell_type": "code",
   "execution_count": 1,
   "metadata": {
    "collapsed": true
   },
   "outputs": [],
   "source": [
    "import findspark\n",
    "findspark.init()"
   ]
  },
  {
   "cell_type": "code",
   "execution_count": 2,
   "metadata": {
    "collapsed": true
   },
   "outputs": [],
   "source": [
    "from pyspark import SparkConf, SparkContext"
   ]
  },
  {
   "cell_type": "code",
   "execution_count": 3,
   "metadata": {
    "collapsed": true
   },
   "outputs": [],
   "source": [
    "conf=SparkConf().setAppName(\"BDProject\").setMaster(\"local[4]\")"
   ]
  },
  {
   "cell_type": "code",
   "execution_count": 4,
   "metadata": {
    "collapsed": true
   },
   "outputs": [],
   "source": [
    "sc=SparkContext(conf=conf)"
   ]
  },
  {
   "cell_type": "code",
   "execution_count": 5,
   "metadata": {
    "collapsed": true
   },
   "outputs": [],
   "source": [
    "from pyspark.sql import SparkSession\n",
    "from pyspark.sql import Row\n",
    "from pyspark.sql.functions import col\n",
    "from pyspark.sql.functions import year, month\n",
    "from pyspark.sql.types import IntegerType, StringType, DateType"
   ]
  },
  {
   "cell_type": "code",
   "execution_count": 6,
   "metadata": {
    "collapsed": true
   },
   "outputs": [],
   "source": [
    "spark = SparkSession.builder \\\n",
    "    .appName('ss') \\\n",
    "    .master('local[4]') \\\n",
    "    .getOrCreate()"
   ]
  },
  {
   "cell_type": "markdown",
   "metadata": {},
   "source": [
    "Importujemy rozpakowane dane tekstowe"
   ]
  },
  {
   "cell_type": "code",
   "execution_count": 101,
   "metadata": {
    "collapsed": true
   },
   "outputs": [],
   "source": [
    "pathUsers=\"travelData\\\\Users.xml\""
   ]
  },
  {
   "cell_type": "code",
   "execution_count": 102,
   "metadata": {
    "collapsed": true
   },
   "outputs": [],
   "source": [
    "rawUsers=sc.textFile(pathUsers)"
   ]
  },
  {
   "cell_type": "code",
   "execution_count": 103,
   "metadata": {},
   "outputs": [
    {
     "data": {
      "text/plain": [
       "51525"
      ]
     },
     "execution_count": 103,
     "metadata": {},
     "output_type": "execute_result"
    }
   ],
   "source": [
    "rawUsers.filter(lambda x: x.startswith('  <row Id=')).count()"
   ]
  },
  {
   "cell_type": "code",
   "execution_count": 104,
   "metadata": {},
   "outputs": [
    {
     "data": {
      "text/plain": [
       "['<?xml version=\"1.0\" encoding=\"utf-8\"?>',\n",
       " '<users>',\n",
       " '  <row Id=\"-1\" Reputation=\"1\" CreationDate=\"2011-06-21T15:16:44.253\" DisplayName=\"Community\" LastAccessDate=\"2011-06-21T15:16:44.253\" WebsiteUrl=\"http://meta.stackexchange.com/\" Location=\"on the server farm\" AboutMe=\"&lt;p&gt;Hi, I\\'m not really a person.&lt;/p&gt;&#xA;&#xA;&lt;p&gt;I\\'m a background process that helps keep this site clean!&lt;/p&gt;&#xA;&#xA;&lt;p&gt;I do things like&lt;/p&gt;&#xA;&#xA;&lt;ul&gt;&#xA;&lt;li&gt;Randomly poke old unanswered questions every hour so they get some attention&lt;/li&gt;&#xA;&lt;li&gt;Own community questions and answers so nobody gets unnecessary reputation from them&lt;/li&gt;&#xA;&lt;li&gt;Own downvotes on spam/evil posts that get permanently deleted&lt;/li&gt;&#xA;&lt;li&gt;Own suggested edits from anonymous users&lt;/li&gt;&#xA;&lt;li&gt;&lt;a href=&quot;http://meta.stackexchange.com/a/92006&quot;&gt;Remove abandoned questions&lt;/a&gt;&lt;/li&gt;&#xA;&lt;/ul&gt;&#xA;\" Views=\"0\" UpVotes=\"3147\" DownVotes=\"14237\" AccountId=\"-1\" />',\n",
       " '  <row Id=\"2\" Reputation=\"101\" CreationDate=\"2011-06-21T20:10:03.720\" DisplayName=\"Geoff Dalgas\" LastAccessDate=\"2017-10-09T14:25:03.613\" WebsiteUrl=\"http://stackoverflow.com\" Location=\"Corvallis, OR\" AboutMe=\"&lt;p&gt;Developer on the Stack Overflow team.  Find me on&lt;/p&gt;&#xA;&#xA;&lt;p&gt;&lt;a href=&quot;http://www.twitter.com/SuperDalgas&quot; rel=&quot;nofollow&quot;&gt;Twitter&lt;/a&gt;&#xA;&lt;br&gt;&lt;br&gt;&#xA;&lt;a href=&quot;http://blog.stackoverflow.com/2009/05/welcome-stack-overflow-valued-associate-00003/&quot;&gt;Stack Overflow Valued Associate #00003&lt;/a&gt;&lt;/p&gt;&#xA;\" Views=\"35\" UpVotes=\"1\" DownVotes=\"0\" Age=\"41\" AccountId=\"2\" />']"
      ]
     },
     "execution_count": 104,
     "metadata": {},
     "output_type": "execute_result"
    }
   ],
   "source": [
    "rawUsers.take(4)"
   ]
  },
  {
   "cell_type": "markdown",
   "metadata": {},
   "source": [
    "Tworzymy funkcję czyszczącą RDDs"
   ]
  },
  {
   "cell_type": "code",
   "execution_count": 105,
   "metadata": {
    "collapsed": true
   },
   "outputs": [],
   "source": [
    "def rddToDf(RDDIn):\n",
    "    def preCleanUp(RDDIn):\n",
    "        def cleaning(listIn):\n",
    "            listOut=[]\n",
    "            for x in listIn:\n",
    "                if listIn.index(x)%2==0:\n",
    "                    listOut.append(x.replace(' ','').replace('<','').replace('=',''))\n",
    "                else:\n",
    "                    listOut.append(x)\n",
    "            return {listOut[i]:listOut[i+1] for i in range(0,len(listOut)-1,2)}\n",
    "        def casting(dictIn):\n",
    "            '''formatujemy datę i tekst'''\n",
    "            def textMining(string):\n",
    "                import re\n",
    "                listXmlChar={'&lt;':'', '&amp':'&','&gt;':'','&quot;':'\"','&apos;':'\\'','&#xA;':''}\n",
    "                y=re.sub('&lt;.*?&gt;','',string)\n",
    "                for x in listXmlChar.keys():\n",
    "                    z=y.replace(x,listXmlChar[x])\n",
    "                    y=z\n",
    "                return z\n",
    "            from datetime import datetime\n",
    "            for x in dictIn.keys():\n",
    "                if x.find('Date')>0:\n",
    "                    dictIn[x]=datetime.strptime(dictIn[x][0:-4],'%Y-%m-%dT%H:%M:%S')\n",
    "                else:\n",
    "                    dictIn[x]=textMining(dictIn[x])\n",
    "            return dictIn\n",
    "        return RDDIn.filter(lambda x: x.startswith('  <row Id=')).map(lambda x: x.split('\"')).map(cleaning).map(casting)\n",
    "    dictRDD=preCleanUp(RDDIn)\n",
    "    listOfColums=dictRDD.flatMap(lambda x: list(x.keys())).distinct().collect()\n",
    "    def newDict(dictIn):\n",
    "        for col in listOfColums:\n",
    "            if col not in dictIn.keys():\n",
    "                dictIn[col]=None\n",
    "        return dictIn\n",
    "    return dictRDD.map(newDict)#.map(lambda x: Row(**x)).toDF(sampleRatio=100)"
   ]
  },
  {
   "cell_type": "code",
   "execution_count": 106,
   "metadata": {
    "collapsed": true
   },
   "outputs": [],
   "source": [
    "usersRDD=rddToDf(rawUsers)"
   ]
  },
  {
   "cell_type": "code",
   "execution_count": 107,
   "metadata": {
    "collapsed": true
   },
   "outputs": [],
   "source": [
    "usersDF=usersRDD.map(lambda x: Row(**x)).toDF(sampleRatio=100)"
   ]
  },
  {
   "cell_type": "code",
   "execution_count": 108,
   "metadata": {},
   "outputs": [
    {
     "name": "stdout",
     "output_type": "stream",
     "text": [
      "root\n",
      " |-- AboutMe: string (nullable = true)\n",
      " |-- AccountId: string (nullable = true)\n",
      " |-- Age: string (nullable = true)\n",
      " |-- CreationDate: timestamp (nullable = true)\n",
      " |-- DisplayName: string (nullable = true)\n",
      " |-- DownVotes: string (nullable = true)\n",
      " |-- LastAccessDate: timestamp (nullable = true)\n",
      " |-- Location: string (nullable = true)\n",
      " |-- ProfileImageUrl: string (nullable = true)\n",
      " |-- Reputation: string (nullable = true)\n",
      " |-- UpVotes: string (nullable = true)\n",
      " |-- Views: string (nullable = true)\n",
      " |-- WebsiteUrl: string (nullable = true)\n",
      " |-- rowId: string (nullable = true)\n",
      "\n"
     ]
    }
   ],
   "source": [
    "usersDF.printSchema()"
   ]
  },
  {
   "cell_type": "code",
   "execution_count": 109,
   "metadata": {},
   "outputs": [
    {
     "data": {
      "text/plain": [
       "15530"
      ]
     },
     "execution_count": 109,
     "metadata": {},
     "output_type": "execute_result"
    }
   ],
   "source": [
    "usersDF.select('AboutMe', 'DisplayName').where(usersDF.AboutMe!='').count()"
   ]
  },
  {
   "cell_type": "code",
   "execution_count": 110,
   "metadata": {},
   "outputs": [
    {
     "name": "stdout",
     "output_type": "stream",
     "text": [
      "+-------+-----------------+\n",
      "|summary|           AgeInt|\n",
      "+-------+-----------------+\n",
      "|  count|            12450|\n",
      "|   mean|33.51694779116466|\n",
      "| stddev|9.670550847825702|\n",
      "|    min|               13|\n",
      "|    max|              148|\n",
      "+-------+-----------------+\n",
      "\n"
     ]
    }
   ],
   "source": [
    "usersDF.withColumn('AgeInt',usersDF.Age.cast(\"integer\")).select(\"AgeInt\").describe().show()"
   ]
  },
  {
   "cell_type": "code",
   "execution_count": 16,
   "metadata": {
    "collapsed": true
   },
   "outputs": [],
   "source": [
    "listXmlChar={'&lt;':'<', '&amp':'&','&gt;':'>','&quot;':'\"','&apos;':'\\''}"
   ]
  },
  {
   "cell_type": "code",
   "execution_count": 21,
   "metadata": {},
   "outputs": [
    {
     "name": "stdout",
     "output_type": "stream",
     "text": [
      "+-------+------------------+\n",
      "|summary|               Age|\n",
      "+-------+------------------+\n",
      "|  count|              1978|\n",
      "|   mean|34.353387259858444|\n",
      "| stddev|11.293929737483065|\n",
      "|    min|               103|\n",
      "|    max|                98|\n",
      "+-------+------------------+\n",
      "\n"
     ]
    }
   ],
   "source": [
    "usersDF.select('Age').describe().show()"
   ]
  },
  {
   "cell_type": "code",
   "execution_count": 102,
   "metadata": {},
   "outputs": [
    {
     "data": {
      "text/plain": [
       "3085"
      ]
     },
     "execution_count": 102,
     "metadata": {},
     "output_type": "execute_result"
    }
   ],
   "source": [
    "usersDF.select('Age').where(usersDF.Age.isNull()).count()"
   ]
  },
  {
   "cell_type": "code",
   "execution_count": 111,
   "metadata": {},
   "outputs": [
    {
     "name": "stdout",
     "output_type": "stream",
     "text": [
      "+------+-----+\n",
      "|AgeInt|count|\n",
      "+------+-----+\n",
      "|  null|39075|\n",
      "|    13|    1|\n",
      "|    14|    2|\n",
      "|    15|    8|\n",
      "|    16|   13|\n",
      "+------+-----+\n",
      "only showing top 5 rows\n",
      "\n"
     ]
    }
   ],
   "source": [
    "usersDF.withColumn('AgeInt',usersDF.Age.cast(\"integer\")).\\\n",
    "groupBy('AgeInt').count().orderBy('AgeInt',ascending=True).show(5)"
   ]
  },
  {
   "cell_type": "code",
   "execution_count": 112,
   "metadata": {},
   "outputs": [
    {
     "name": "stdout",
     "output_type": "stream",
     "text": [
      "+----+-----+-----+\n",
      "|year|month|count|\n",
      "+----+-----+-----+\n",
      "|2011|    6|  288|\n",
      "|2011|    7|  212|\n",
      "|2011|    8|  187|\n",
      "|2011|    9|  162|\n",
      "|2011|   10|  247|\n",
      "|2011|   11|  218|\n",
      "|2011|   12|  188|\n",
      "|2012|    1|  190|\n",
      "|2012|    2|  177|\n",
      "|2012|    3|  150|\n",
      "|2012|    4|  143|\n",
      "|2012|    5|  148|\n",
      "|2012|    6|  223|\n",
      "|2012|    7|  126|\n",
      "|2012|    8|  168|\n",
      "|2012|    9|  154|\n",
      "|2012|   10|  187|\n",
      "|2012|   11|  160|\n",
      "|2012|   12|  174|\n",
      "|2013|    1|  252|\n",
      "+----+-----+-----+\n",
      "only showing top 20 rows\n",
      "\n"
     ]
    }
   ],
   "source": [
    "usersDF.withColumn('year',year(usersDF.CreationDate)).withColumn('month',month(usersDF.CreationDate)).groupBy('year','month').count()\\\n",
    ".orderBy('year','month',ascending=True).show()"
   ]
  },
  {
   "cell_type": "code",
   "execution_count": 113,
   "metadata": {},
   "outputs": [
    {
     "data": {
      "text/plain": [
       "[{'AboutMe': \"Hi, I'm not really a person.I'm a background process that helps keep this site clean!I do things likeRandomly poke old unanswered questions every hour so they get some attentionOwn community questions and answers so nobody gets unnecessary reputation from themOwn downvotes on spam/evil posts that get permanently deletedOwn suggested edits from anonymous usersRemove abandoned questions\",\n",
       "  'AccountId': '-1',\n",
       "  'Age': None,\n",
       "  'CreationDate': datetime.datetime(2011, 6, 21, 15, 16, 44),\n",
       "  'DisplayName': 'Community',\n",
       "  'DownVotes': '14237',\n",
       "  'LastAccessDate': datetime.datetime(2011, 6, 21, 15, 16, 44),\n",
       "  'Location': 'on the server farm',\n",
       "  'ProfileImageUrl': None,\n",
       "  'Reputation': '1',\n",
       "  'UpVotes': '3147',\n",
       "  'Views': '0',\n",
       "  'WebsiteUrl': 'http://meta.stackexchange.com/',\n",
       "  'rowId': '-1'}]"
      ]
     },
     "execution_count": 113,
     "metadata": {},
     "output_type": "execute_result"
    }
   ],
   "source": [
    "usersRDD.take(1)"
   ]
  },
  {
   "cell_type": "code",
   "execution_count": 114,
   "metadata": {},
   "outputs": [],
   "source": [
    "import re\n",
    "textOnly=usersRDD.map(lambda x: x['AboutMe']).filter(lambda x: x!=None).\\\n",
    "flatMap(lambda x: re.split(r'\\W+',x))"
   ]
  },
  {
   "cell_type": "code",
   "execution_count": 125,
   "metadata": {},
   "outputs": [
    {
     "data": {
      "text/plain": [
       "[('with', 4081),\n",
       " ('developer', 2195),\n",
       " ('have', 2007),\n",
       " ('that', 1992),\n",
       " ('software', 1528),\n",
       " ('from', 1429),\n",
       " ('working', 1326),\n",
       " ('like', 1273),\n",
       " ('about', 1271),\n",
       " ('Software', 1209)]"
      ]
     },
     "execution_count": 125,
     "metadata": {},
     "output_type": "execute_result"
    }
   ],
   "source": [
    "textOnly.filter(lambda x: len(x)>3).map(lambda x: (x,1))\\\n",
    ".reduceByKey(lambda x,y: x+y).takeOrdered(10, (lambda x: -x[1]))"
   ]
  },
  {
   "cell_type": "code",
   "execution_count": 116,
   "metadata": {
    "collapsed": true
   },
   "outputs": [],
   "source": [
    "pathPosts=\"travelData\\Posts.xml\""
   ]
  },
  {
   "cell_type": "code",
   "execution_count": 117,
   "metadata": {
    "collapsed": true
   },
   "outputs": [],
   "source": [
    "rawPosts=sc.textFile(pathPosts)"
   ]
  },
  {
   "cell_type": "code",
   "execution_count": 118,
   "metadata": {},
   "outputs": [
    {
     "data": {
      "text/plain": [
       "['<?xml version=\"1.0\" encoding=\"utf-8\"?>',\n",
       " '<posts>',\n",
       " '  <row Id=\"1\" PostTypeId=\"1\" AcceptedAnswerId=\"393\" CreationDate=\"2011-06-21T20:19:34.730\" Score=\"8\" ViewCount=\"435\" Body=\"&lt;p&gt;My fiancée and I are looking for a good Caribbean cruise in October and were wondering which islands are best to see and which Cruise line to take?&lt;/p&gt;&#xA;&#xA;&lt;p&gt;It seems like a lot of the cruises don\\'t run in this month due to Hurricane season so I\\'m looking for other good options.&lt;/p&gt;&#xA;&#xA;&lt;p&gt;&lt;strong&gt;EDIT&lt;/strong&gt; We\\'ll be travelling in 2012.&lt;/p&gt;&#xA;\" OwnerUserId=\"9\" LastEditorUserId=\"101\" LastEditDate=\"2011-12-28T21:36:43.910\" LastActivityDate=\"2012-05-24T14:52:14.760\" Title=\"What are some Caribbean cruises for October?\" Tags=\"&lt;caribbean&gt;&lt;cruising&gt;&lt;vacations&gt;\" AnswerCount=\"4\" CommentCount=\"4\" ClosedDate=\"2013-02-25T23:52:47.953\" />']"
      ]
     },
     "execution_count": 118,
     "metadata": {},
     "output_type": "execute_result"
    }
   ],
   "source": [
    "rawPosts.take(3)"
   ]
  },
  {
   "cell_type": "code",
   "execution_count": 119,
   "metadata": {
    "collapsed": true
   },
   "outputs": [],
   "source": [
    "postsRDD=rddToDf(rawPosts)"
   ]
  },
  {
   "cell_type": "code",
   "execution_count": 120,
   "metadata": {},
   "outputs": [
    {
     "data": {
      "text/plain": [
       "[{'AcceptedAnswerId': '393',\n",
       "  'AnswerCount': '4',\n",
       "  'Body': \"My fiancée and I are looking for a good Caribbean cruise in October and were wondering which islands are best to see and which Cruise line to take?It seems like a lot of the cruises don't run in this month due to Hurricane season so I'm looking for other good options.EDIT We'll be travelling in 2012.\",\n",
       "  'ClosedDate': datetime.datetime(2013, 2, 25, 23, 52, 47),\n",
       "  'CommentCount': '4',\n",
       "  'CommunityOwnedDate': None,\n",
       "  'CreationDate': datetime.datetime(2011, 6, 21, 20, 19, 34),\n",
       "  'FavoriteCount': None,\n",
       "  'LastActivityDate': datetime.datetime(2012, 5, 24, 14, 52, 14),\n",
       "  'LastEditDate': datetime.datetime(2011, 12, 28, 21, 36, 43),\n",
       "  'LastEditorDisplayName': None,\n",
       "  'LastEditorUserId': '101',\n",
       "  'OwnerDisplayName': None,\n",
       "  'OwnerUserId': '9',\n",
       "  'ParentId': None,\n",
       "  'PostTypeId': '1',\n",
       "  'Score': '8',\n",
       "  'Tags': '',\n",
       "  'Title': 'What are some Caribbean cruises for October?',\n",
       "  'ViewCount': '435',\n",
       "  'rowId': '1'}]"
      ]
     },
     "execution_count": 120,
     "metadata": {},
     "output_type": "execute_result"
    }
   ],
   "source": [
    "postsRDD.take(1)"
   ]
  },
  {
   "cell_type": "code",
   "execution_count": 121,
   "metadata": {
    "collapsed": true
   },
   "outputs": [],
   "source": [
    "postsTitleOnly=postsRDD.map(lambda x: x['Title']).filter(lambda x: x!=None).\\\n",
    "flatMap(lambda x: re.split(r'\\W+',x)).map(lambda x: x.lower())"
   ]
  },
  {
   "cell_type": "code",
   "execution_count": 124,
   "metadata": {},
   "outputs": [
    {
     "data": {
      "text/plain": [
       "[('visa', 7269),\n",
       " ('from', 3712),\n",
       " ('with', 2923),\n",
       " ('what', 2789),\n",
       " ('travel', 2088),\n",
       " ('schengen', 1961),\n",
       " ('airport', 1676),\n",
       " ('passport', 1666),\n",
       " ('need', 1462),\n",
       " ('flight', 1396),\n",
       " ('transit', 1324),\n",
       " ('when', 1314),\n",
       " ('there', 1312),\n",
       " ('does', 1119),\n",
       " ('have', 1110),\n",
       " ('where', 970),\n",
       " ('visit', 858),\n",
       " ('citizen', 842),\n",
       " ('travelling', 752),\n",
       " ('tourist', 740),\n",
       " ('after', 736),\n",
       " ('ticket', 732),\n",
       " ('will', 688),\n",
       " ('time', 688),\n",
       " ('country', 685),\n",
       " ('without', 680),\n",
       " ('that', 679),\n",
       " ('card', 671),\n",
       " ('traveling', 667),\n",
       " ('entry', 661)]"
      ]
     },
     "execution_count": 124,
     "metadata": {},
     "output_type": "execute_result"
    }
   ],
   "source": [
    "postsTitleOnly.filter(lambda x: len(x)>3).map(lambda x: (x,1))\\\n",
    ".reduceByKey(lambda x,y: x+y).takeOrdered(30, (lambda x: -x[1]))"
   ]
  },
  {
   "cell_type": "code",
   "execution_count": null,
   "metadata": {
    "collapsed": true
   },
   "outputs": [],
   "source": []
  }
 ],
 "metadata": {
  "kernelspec": {
   "display_name": "Python 3",
   "language": "python",
   "name": "python3"
  },
  "language_info": {
   "codemirror_mode": {
    "name": "ipython",
    "version": 3
   },
   "file_extension": ".py",
   "mimetype": "text/x-python",
   "name": "python",
   "nbconvert_exporter": "python",
   "pygments_lexer": "ipython3",
   "version": "3.6.3"
  }
 },
 "nbformat": 4,
 "nbformat_minor": 2
}
